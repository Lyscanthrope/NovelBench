{
 "cells": [
  {
   "cell_type": "markdown",
   "metadata": {},
   "source": [
    "**Step-by-step Guidence on How to Install and Use ADBench**"
   ]
  },
  {
   "cell_type": "markdown",
   "metadata": {},
   "source": [
    "# Install ADBench"
   ]
  },
  {
   "cell_type": "markdown",
   "metadata": {
    "ExecuteTime": {
     "end_time": "2023-07-17T15:33:13.848925Z",
     "start_time": "2023-07-17T15:33:13.833498Z"
    }
   },
   "source": [
    "## Run ADBench experiments"
   ]
  },
  {
   "cell_type": "code",
   "execution_count": 1,
   "metadata": {
    "ExecuteTime": {
     "end_time": "2023-07-19T14:44:03.627289Z",
     "start_time": "2023-07-19T14:26:41.551958Z"
    },
    "pycharm": {
     "name": "#%%\n"
    }
   },
   "outputs": [
    {
     "data": {
      "text/plain": [
       "\"\\nParams:\\nsuffix: file name suffix;\\n\\nparallel: running only 'unsupervise', \\n\""
      ]
     },
     "execution_count": 1,
     "metadata": {},
     "output_type": "execute_result"
    }
   ],
   "source": [
    "%load_ext autoreload\n",
    "%autoreload 2\n",
    "from adbench.run import RunPipeline\n",
    "\n",
    "'''\n",
    "Params:\n",
    "suffix: file name suffix;\n",
    "\n",
    "parallel: running only 'unsupervise', \n",
    "'''"
   ]
  },
  {
   "cell_type": "code",
   "execution_count": 2,
   "metadata": {},
   "outputs": [
    {
     "name": "stdout",
     "output_type": "stream",
     "text": [
      "47 datasets, 13 models\n",
      "Experiment results are saved at: d:\\temp\\python\\NovelBench\\adbench\\result\n"
     ]
    },
    {
     "name": "stderr",
     "output_type": "stream",
     "text": [
      "0it [00:00, ?it/s]"
     ]
    },
    {
     "name": "stdout",
     "output_type": "stream",
     "text": [
      "best param: None\n",
      "now to train:IForest\n",
      "Model: IForest, AUC-ROC: 0.7625, AUC-PR: 0.3706709956709956\n",
      "Current experiment parameters: ('adbench\\\\datasets\\\\Classical\\\\15_Hepatitis.npz', 1), model: IForest, metrics: {'aucroc': 0.7625, 'aucpr': 0.3706709956709956}, fitting time: 0.13852739334106445, inference time: 0.004998445510864258"
     ]
    },
    {
     "name": "stderr",
     "output_type": "stream",
     "text": []
    },
    {
     "name": "stdout",
     "output_type": "stream",
     "text": [
      "\n",
      "best param: None\n",
      "now to train:OCSVM\n",
      "Model: OCSVM, AUC-ROC: 0.7375, AUC-PR: 0.35\n",
      "Current experiment parameters: ('adbench\\\\datasets\\\\Classical\\\\15_Hepatitis.npz', 1), model: OCSVM, metrics: {'aucroc': 0.7375, 'aucpr': 0.35}, fitting time: 0.002000570297241211, inference time: 0.0\n",
      "best param: None\n",
      "now to train:COF\n",
      "Model: COF, AUC-ROC: 0.825, AUC-PR: 0.48214285714285715\n",
      "Current experiment parameters: ('adbench\\\\datasets\\\\Classical\\\\15_Hepatitis.npz', 1), model: COF, metrics: {'aucroc': 0.825, 'aucpr': 0.48214285714285715}, fitting time: 0.006511688232421875, inference time: 0.0020008087158203125\n",
      "best param: None\n",
      "now to train:COPOD\n"
     ]
    },
    {
     "name": "stderr",
     "output_type": "stream",
     "text": []
    },
    {
     "name": "stdout",
     "output_type": "stream",
     "text": [
      "Model: COPOD, AUC-ROC: 0.8875, AUC-PR: 0.6950757575757576\n",
      "Current experiment parameters: ('adbench\\\\datasets\\\\Classical\\\\15_Hepatitis.npz', 1), model: COPOD, metrics: {'aucroc': 0.8875, 'aucpr': 0.6950757575757576}, fitting time: 0.25888943672180176, inference time: 0.0009996891021728516\n",
      "best param: None\n",
      "now to train:ECOD\n",
      "Model: ECOD, AUC-ROC: 0.875, AUC-PR: 0.6575757575757576\n",
      "Current experiment parameters: ('adbench\\\\datasets\\\\Classical\\\\15_Hepatitis.npz', 1), model: ECOD, metrics: {'aucroc': 0.875, 'aucpr': 0.6575757575757576}, fitting time: 0.0020003318786621094, inference time: 0.0013880729675292969\n",
      "best param: None\n",
      "now to train:HBOS\n"
     ]
    },
    {
     "name": "stderr",
     "output_type": "stream",
     "text": []
    },
    {
     "name": "stdout",
     "output_type": "stream",
     "text": [
      "Model: HBOS, AUC-ROC: 0.8500000000000001, AUC-PR: 0.675595238095238\n",
      "Current experiment parameters: ('adbench\\\\datasets\\\\Classical\\\\15_Hepatitis.npz', 1), model: HBOS, metrics: {'aucroc': 0.8500000000000001, 'aucpr': 0.675595238095238}, fitting time: 2.0146281719207764, inference time: 0.0\n",
      "best param: None\n",
      "now to train:KNN\n",
      "Error in model fitting. Model:KNN, Error: [WinError -1066598273] Windows Error 0xc06d007f\n",
      "Current experiment parameters: ('adbench\\\\datasets\\\\Classical\\\\15_Hepatitis.npz', 1), model: KNN, metrics: {'aucroc': nan, 'aucpr': nan}, fitting time: None, inference time: None\n",
      "best param: None\n",
      "now to train:LODA\n",
      "Model: LODA, AUC-ROC: 0.7375, AUC-PR: 0.45144110275689225\n",
      "Current experiment parameters: ('adbench\\\\datasets\\\\Classical\\\\15_Hepatitis.npz', 1), model: LODA, metrics: {'aucroc': 0.7375, 'aucpr': 0.45144110275689225}, fitting time: 0.009018421173095703, inference time: 0.0010051727294921875\n"
     ]
    },
    {
     "name": "stderr",
     "output_type": "stream",
     "text": []
    },
    {
     "ename": "",
     "evalue": "",
     "output_type": "error",
     "traceback": [
      "\u001b[1;31mThe Kernel crashed while executing code in the current cell or a previous cell. \n",
      "\u001b[1;31mPlease review the code in the cell(s) to identify a possible cause of the failure. \n",
      "\u001b[1;31mClick <a href='https://aka.ms/vscodeJupyterKernelCrash'>here</a> for more info. \n",
      "\u001b[1;31mView Jupyter <a href='command:jupyter.viewOutput'>log</a> for further details."
     ]
    }
   ],
   "source": [
    "# return the results including [params, model_name, metrics, time_fit, time_inference]\n",
    "# besides, results will be automatically saved in the dataframe and ouputted as csv file in adbench/result folder\n",
    "\n",
    "pipeline = RunPipeline(suffix='ADBench', parallel='unsupervise')\n",
    "results = pipeline.run()"
   ]
  },
  {
   "cell_type": "code",
   "execution_count": null,
   "metadata": {},
   "outputs": [],
   "source": [
    "pipeline = RunPipeline(suffix='ADBench', parallel='unsupervise', realistic_synthetic_mode='cluster', noise_type=None)\n",
    "results = pipeline.run()"
   ]
  },
  {
   "cell_type": "code",
   "execution_count": null,
   "metadata": {},
   "outputs": [],
   "source": [
    "pipeline = RunPipeline(suffix='ADBench', parallel='supervise', realistic_synthetic_mode=None, noise_type='irrelevant_features')\n",
    "results = pipeline.run()"
   ]
  },
  {
   "cell_type": "markdown",
   "metadata": {},
   "source": [
    "## Run your customized algorithm on ADBench datasets"
   ]
  },
  {
   "cell_type": "code",
   "execution_count": null,
   "metadata": {},
   "outputs": [],
   "source": [
    "# customized model on ADBench's datasets\n",
    "from adbench.run import RunPipeline\n",
    "from adbench.baseline.Customized.run import Customized\n",
    "\n",
    "# notice that you should specify the corresponding category of your customized AD algorithm\n",
    "# for example, here we use Logistic Regression as customized clf, which belongs to the supervised algorithm\n",
    "# for your own algorithm, you can realize the same usage as other baselines by modifying the fit.py, model.py, and run.py files in the adbench/baseline/Customized\n",
    "pipeline = RunPipeline(suffix='ADBench', parallel='supervise', realistic_synthetic_mode=None, noise_type=None)\n",
    "results = pipeline.run(clf=Customized)"
   ]
  },
  {
   "cell_type": "markdown",
   "metadata": {},
   "source": [
    "## Run your customized algorithm on customized dataset"
   ]
  },
  {
   "cell_type": "code",
   "execution_count": null,
   "metadata": {},
   "outputs": [],
   "source": [
    "# customized model on customized dataset\n",
    "import numpy as np\n",
    "dataset = {}\n",
    "dataset['X'] = np.random.randn(1000, 20)\n",
    "dataset['y'] = np.random.choice([0, 1], 1000)\n",
    "results = pipeline.run(dataset=dataset, clf=Customized)"
   ]
  },
  {
   "cell_type": "markdown",
   "metadata": {},
   "source": [
    "# Import AD algorithms from ADBench"
   ]
  },
  {
   "cell_type": "code",
   "execution_count": null,
   "metadata": {},
   "outputs": [],
   "source": [
    "import numpy as np\n",
    "X_train = np.random.randn(1000, 20)\n",
    "y_train = np.random.choice([0, 1], 1000)\n",
    "X_test = np.random.randn(100, 20)\n",
    "\n",
    "# Directly import AD algorithms from the existing toolkits like PyOD\n",
    "from adbench.baseline.PyOD import PYOD\n",
    "model = PYOD(seed=42, model_name='XGBOD')  # initialization\n",
    "model.fit(X_train, y_train)  # fit\n",
    "score = model.predict_score(X_test)  # predict\n",
    "\n",
    "# Import deep learning AD algorithms from our ADBench\n",
    "from adbench.baseline.PReNet.run import PReNet\n",
    "model = PReNet(seed=42)\n",
    "model.fit(X_train, y_train)  # fit\n",
    "score = model.predict_score(X_test)  # predict"
   ]
  }
 ],
 "metadata": {
  "kernelspec": {
   "display_name": "Python 3",
   "language": "python",
   "name": "python3"
  },
  "language_info": {
   "codemirror_mode": {
    "name": "ipython",
    "version": 3
   },
   "file_extension": ".py",
   "mimetype": "text/x-python",
   "name": "python",
   "nbconvert_exporter": "python",
   "pygments_lexer": "ipython3",
   "version": "3.12.12"
  },
  "toc": {
   "base_numbering": 1,
   "nav_menu": {},
   "number_sections": true,
   "sideBar": true,
   "skip_h1_title": false,
   "title_cell": "Table of Contents",
   "title_sidebar": "Contents",
   "toc_cell": false,
   "toc_position": {},
   "toc_section_display": true,
   "toc_window_display": false
  },
  "varInspector": {
   "cols": {
    "lenName": 16,
    "lenType": 16,
    "lenVar": 40
   },
   "kernels_config": {
    "python": {
     "delete_cmd_postfix": "",
     "delete_cmd_prefix": "del ",
     "library": "var_list.py",
     "varRefreshCmd": "print(var_dic_list())"
    },
    "r": {
     "delete_cmd_postfix": ") ",
     "delete_cmd_prefix": "rm(",
     "library": "var_list.r",
     "varRefreshCmd": "cat(var_dic_list()) "
    }
   },
   "types_to_exclude": [
    "module",
    "function",
    "builtin_function_or_method",
    "instance",
    "_Feature"
   ],
   "window_display": false
  }
 },
 "nbformat": 4,
 "nbformat_minor": 4
}
